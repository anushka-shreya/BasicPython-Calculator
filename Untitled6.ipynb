{
 "cells": [
  {
   "cell_type": "code",
   "execution_count": null,
   "id": "e338d1af-60aa-42a4-a229-7681ccf9b35e",
   "metadata": {},
   "outputs": [
    {
     "name": "stdout",
     "output_type": "stream",
     "text": [
      "Simple Calculator\n",
      "Operations: +, -, *, /\n"
     ]
    },
    {
     "name": "stdin",
     "output_type": "stream",
     "text": [
      "Enter first number:  6\n",
      "Enter operator (+, -, *, /):  -\n",
      "Enter second number:  8\n"
     ]
    },
    {
     "name": "stdout",
     "output_type": "stream",
     "text": [
      "Result: -2.0\n"
     ]
    },
    {
     "name": "stdin",
     "output_type": "stream",
     "text": [
      "Do you want to calculate again? (yes/no):  YES\n",
      "Enter first number:  9\n",
      "Enter operator (+, -, *, /):  /\n",
      "Enter second number:  9\n"
     ]
    },
    {
     "name": "stdout",
     "output_type": "stream",
     "text": [
      "Result: 1.0\n"
     ]
    }
   ],
   "source": [
    "# Simple Calculator in Python\n",
    "\n",
    "def add(a, b):\n",
    "    return a + b\n",
    "\n",
    "def subtract(a, b):\n",
    "    return a - b\n",
    "\n",
    "def multiply(a, b):\n",
    "    return a * b\n",
    "\n",
    "def divide(a, b):\n",
    "    if b == 0:\n",
    "        return \"Error! Division by zero.\"\n",
    "    return a / b\n",
    "\n",
    "print(\"Simple Calculator\")\n",
    "print(\"Operations: +, -, *, /\")\n",
    "\n",
    "while True:\n",
    "    try:\n",
    "        num1 = float(input(\"Enter first number: \"))\n",
    "        operator = input(\"Enter operator (+, -, *, /): \")\n",
    "        num2 = float(input(\"Enter second number: \"))\n",
    "\n",
    "        if operator == '+':\n",
    "            result = add(num1, num2)\n",
    "        elif operator == '-':\n",
    "            result = subtract(num1, num2)\n",
    "        elif operator == '*':\n",
    "            result = multiply(num1, num2)\n",
    "        elif operator == '/':\n",
    "            result = divide(num1, num2)\n",
    "        else:\n",
    "            print(\"Invalid operator! Please use +, -, *, or /.\")\n",
    "            continue\n",
    "\n",
    "        print(f\"Result: {result}\")\n",
    "\n",
    "        choice = input(\"Do you want to calculate again? (yes/no): \").lower()\n",
    "        if choice != 'yes':\n",
    "            print(\"Goodbye!\")\n",
    "            break\n",
    "    except ValueError:\n",
    "        print(\"Invalid input! Please enter numbers only.\")\n"
   ]
  },
  {
   "cell_type": "code",
   "execution_count": null,
   "id": "6d527522-3b77-4f3b-9a14-9a3666c3a58f",
   "metadata": {},
   "outputs": [],
   "source": []
  }
 ],
 "metadata": {
  "kernelspec": {
   "display_name": "Python 3 (ipykernel)",
   "language": "python",
   "name": "python3"
  },
  "language_info": {
   "codemirror_mode": {
    "name": "ipython",
    "version": 3
   },
   "file_extension": ".py",
   "mimetype": "text/x-python",
   "name": "python",
   "nbconvert_exporter": "python",
   "pygments_lexer": "ipython3",
   "version": "3.12.4"
  }
 },
 "nbformat": 4,
 "nbformat_minor": 5
}
